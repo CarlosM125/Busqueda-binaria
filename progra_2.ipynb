{
  "cells": [
    {
      "cell_type": "code",
      "execution_count": null,
      "metadata": {
        "colab": {
          "base_uri": "https://localhost:8080/"
        },
        "id": "lIYdn1woOS1n",
        "outputId": "55c030dd-dd4b-4879-b50b-01df38256f80"
      },
      "outputs": [
        {
          "output_type": "stream",
          "name": "stdout",
          "text": [
            "[5, 1, 3, 4, 2, 6]\n"
          ]
        }
      ],
      "source": [
        "array = [5,1,3,4,2,6]\n",
        "print(array)"
      ]
    },
    {
      "cell_type": "code",
      "source": [
        "def burbuja(arr):\n",
        "  intercambio = True\n",
        "  while intercambio:\n",
        "    intercambio=False\n",
        "    for i in range(len(arr)-1):\n",
        "      if arr[i] > arr[i+1]:\n",
        "        arr[i], arr[i+1]= arr[i+1], arr[i]\n",
        "        intercambio = True\n"
      ],
      "metadata": {
        "id": "yhu9a88sj_OF"
      },
      "execution_count": null,
      "outputs": []
    },
    {
      "cell_type": "code",
      "source": [
        "def BusBinaria(arr,num):\n",
        "  inicio=0\n",
        "  fin=len(arr)-1\n",
        "  while inicio <= fin:\n",
        "    mitad = (inicio+fin)//2\n",
        "    if arr[mitad]==num:\n",
        "      return \"Numero en la poscición\",mitad\n",
        "    if arr[mitad]> num:\n",
        "      fin=mitad-1\n",
        "    if arr[mitad]< num:\n",
        "      inicio = mitad+1\n",
        "  return \"No se encontro\""
      ],
      "metadata": {
        "id": "o8G55JTzlUFS"
      },
      "execution_count": null,
      "outputs": []
    },
    {
      "cell_type": "code",
      "source": [
        "burbuja(array)\n",
        "print(array)"
      ],
      "metadata": {
        "id": "zOglsE6pk2ML",
        "outputId": "8f9bdbed-46d4-4b77-f85f-a9bfa247e0b6",
        "colab": {
          "base_uri": "https://localhost:8080/"
        }
      },
      "execution_count": null,
      "outputs": [
        {
          "output_type": "stream",
          "name": "stdout",
          "text": [
            "[1, 2, 3, 4, 5, 6]\n"
          ]
        }
      ]
    },
    {
      "cell_type": "code",
      "source": [
        "BusBinaria(array,5)"
      ],
      "metadata": {
        "id": "Ti0okeDQlGmq",
        "outputId": "0d76a890-6330-4549-e7fc-830a09336b95",
        "colab": {
          "base_uri": "https://localhost:8080/"
        }
      },
      "execution_count": null,
      "outputs": [
        {
          "output_type": "execute_result",
          "data": {
            "text/plain": [
              "('Numero en la poscición', 4)"
            ]
          },
          "metadata": {},
          "execution_count": 29
        }
      ]
    }
  ],
  "metadata": {
    "colab": {
      "provenance": []
    },
    "kernelspec": {
      "display_name": "Python 3",
      "name": "python3"
    }
  },
  "nbformat": 4,
  "nbformat_minor": 0
}